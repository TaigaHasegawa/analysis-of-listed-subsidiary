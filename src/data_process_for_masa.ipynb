{
 "cells": [
  {
   "cell_type": "code",
   "execution_count": 1,
   "metadata": {},
   "outputs": [],
   "source": [
    "# coding: utf-8\n",
    "import numpy as np \n",
    "import pandas as pd\n",
    "import glob\n",
    "import openpyxl\n",
    "import os\n",
    "from tqdm import tqdm\n",
    "\n",
    "from utils import *\n",
    "from settings import *\n",
    "\n",
    "from sklearn import linear_model\n",
    "from sklearn.linear_model import LinearRegression as LR\n",
    "\n",
    "import matplotlib.pyplot as plt\n",
    "import matplotlib.cm as cm\n",
    "import seaborn as sns\n",
    "from matplotlib.colors import LinearSegmentedColormap"
   ]
  },
  {
   "cell_type": "code",
   "execution_count": 2,
   "metadata": {},
   "outputs": [],
   "source": [
    "#bs_asset_list = glob.glob(os.path.join(BS_ASSET_DIR,\"*.xlsx\"))\n",
    "#bs_debt_list = glob.glob(os.path.join(BS_DEBT_DIR,\"*.xlsx\"))\n",
    "#cf_list = glob.glob(os.path.join(CF_DIR,\"*.xlsx\"))\n",
    "#pl_list = glob.glob(os.path.join(PL_DIR,\"*.xlsx\"))\n",
    "#base_info_list = glob.glob(os.path.join(BASE_INFO_DIR,\"*.xlsx\"))"
   ]
  },
  {
   "cell_type": "code",
   "execution_count": 3,
   "metadata": {},
   "outputs": [],
   "source": [
    "##ここのpathは自分で変更してください\n",
    "df = pd.read_csv(PROCESSED_DIR+\"/processed_data_for_masa.csv\")"
   ]
  },
  {
   "cell_type": "code",
   "execution_count": 4,
   "metadata": {},
   "outputs": [],
   "source": [
    "#データが欠損している行は除く\n",
    "df = df.dropna(subset=[\"日本標準産業分類コード１\", \"営業利益［累計］_y\", \"資産［累計］\"])"
   ]
  },
  {
   "cell_type": "code",
   "execution_count": 5,
   "metadata": {},
   "outputs": [],
   "source": [
    "#分類抽出\n",
    "df.loc[:,\"日本標準産業分類\"]=df[\"日本標準産業分類コード１\"].apply(lambda x: int(x/10))"
   ]
  },
  {
   "cell_type": "code",
   "execution_count": 6,
   "metadata": {},
   "outputs": [
    {
     "name": "stderr",
     "output_type": "stream",
     "text": [
      "/Users/taigahase/Desktop/file/venv_ver2/lib/python3.7/site-packages/ipykernel_launcher.py:2: FutureWarning: Indexing with multiple keys (implicitly converted to a tuple of keys) will be deprecated, use a list instead.\n",
      "  \n"
     ]
    }
   ],
   "source": [
    "#決算期、ticker_code, 分類ごとに集計\n",
    "df_new = df.groupby([\"決算期\",\"ticker_code_x\",\"日本標準産業分類\"])[\"営業利益［累計］_y\", \"資産［累計］\"].sum().reset_index()"
   ]
  },
  {
   "cell_type": "code",
   "execution_count": 7,
   "metadata": {},
   "outputs": [],
   "source": [
    "#ROA計算\n",
    "df_new[\"ROA\"] = df_new[\"営業利益［累計］_y\"]/df_new[\"資産［累計］\"]"
   ]
  },
  {
   "cell_type": "code",
   "execution_count": 8,
   "metadata": {},
   "outputs": [],
   "source": [
    "#年度-1を決算期として扱う\n",
    "df_new[\"決算期\"] = pd.to_datetime(df_new[\"決算期\"], format=\"%Y-%m-%d\", errors=\"coerce\")\n",
    "df_new[\"決算期\"] = df_new[\"決算期\"].dt.year-1"
   ]
  },
  {
   "cell_type": "code",
   "execution_count": 10,
   "metadata": {},
   "outputs": [],
   "source": [
    "#まさが欲しいフォーマットに微修正\n",
    "df_new[\"決算期\"] = df_new[\"決算期\"].astype(str)\n",
    "df_new[\"ROE\"] = df_new[\"ROA\"]*100\n",
    "df_new = df_new.T"
   ]
  },
  {
   "cell_type": "code",
   "execution_count": 11,
   "metadata": {},
   "outputs": [],
   "source": [
    "df_new.to_csv(PROCESSED_DIR+\"/processed_data_for_masa_ver2.csv\")"
   ]
  },
  {
   "cell_type": "code",
   "execution_count": null,
   "metadata": {},
   "outputs": [],
   "source": []
  }
 ],
 "metadata": {
  "kernelspec": {
   "display_name": "Python 3",
   "language": "python",
   "name": "python3"
  },
  "language_info": {
   "codemirror_mode": {
    "name": "ipython",
    "version": 3
   },
   "file_extension": ".py",
   "mimetype": "text/x-python",
   "name": "python",
   "nbconvert_exporter": "python",
   "pygments_lexer": "ipython3",
   "version": "3.7.3"
  },
  "toc": {
   "base_numbering": 1,
   "nav_menu": {},
   "number_sections": true,
   "sideBar": true,
   "skip_h1_title": false,
   "title_cell": "Table of Contents",
   "title_sidebar": "Contents",
   "toc_cell": false,
   "toc_position": {},
   "toc_section_display": true,
   "toc_window_display": false
  }
 },
 "nbformat": 4,
 "nbformat_minor": 4
}
